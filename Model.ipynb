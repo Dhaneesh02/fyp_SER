{
  "cells": [
    {
      "cell_type": "markdown",
      "metadata": {
        "id": "view-in-github",
        "colab_type": "text"
      },
      "source": [
        "<a href=\"https://colab.research.google.com/github/Dhaneesh02/Project_1/blob/mfcc/Model.ipynb\" target=\"_parent\"><img src=\"https://colab.research.google.com/assets/colab-badge.svg\" alt=\"Open In Colab\"/></a>"
      ]
    },
    {
      "cell_type": "code",
      "execution_count": null,
      "metadata": {
        "id": "i8FR_AIhs4qd"
      },
      "outputs": [],
      "source": [
        "import pickle\n",
        "import numpy as np\n",
        "\n",
        "from IPython.display import Image\n",
        "import matplotlib.pyplot as plt\n",
        "\n",
        "import tensorflow as tf\n",
        "from tensorflow.keras.models import Model\n",
        "from tensorflow.keras.layers import Input, Dense, Dropout, Activation, TimeDistributed, concatenate\n",
        "from tensorflow.keras.layers import Conv2D, MaxPooling2D, BatchNormalization, Flatten\n",
        "from tensorflow.keras.layers import LSTM\n",
        "from tensorflow.keras.optimizers import SGD\n",
        "from tensorflow.keras.callbacks import EarlyStopping, ModelCheckpoint\n",
        "from tensorflow.keras import backend as K\n",
        "from keras.utils import np_utils\n",
        "from keras.utils.vis_utils import plot_model\n",
        "from sklearn.preprocessing import LabelEncoder\n",
        "\n",
        "### Warning ###\n",
        "import warnings\n",
        "warnings.filterwarnings('ignore')"
      ]
    },
    {
      "cell_type": "code",
      "execution_count": null,
      "metadata": {
        "id": "lkZXrJJFs6Co",
        "colab": {
          "base_uri": "https://localhost:8080/"
        },
        "outputId": "eee86802-6b1b-4cb3-9d1e-0cdc7f863cef"
      },
      "outputs": [
        {
          "output_type": "stream",
          "name": "stdout",
          "text": [
            "Mounted at /content/drive\n"
          ]
        }
      ],
      "source": [
        "from google.colab import drive\n",
        "drive.mount('/content/drive')"
      ]
    },
    {
      "cell_type": "code",
      "execution_count": null,
      "metadata": {
        "id": "hqD7qk4ms6hQ"
      },
      "outputs": [],
      "source": [
        "X_train = pickle.load(open('drive/My Drive/FYP/Pickle/[RAVDESS][MEL_SPECT][X_train].p', 'rb'))\n",
        "y_train = pickle.load(open('drive/My Drive/FYP/Pickle/[RAVDESS][MEL_SPECT][y_train].p', 'rb'))\n",
        "y_test = pickle.load(open('drive/My Drive/FYP/Pickle/[RAVDESS][MEL_SPECT][y_test].p', 'rb'))\n",
        "X_test = pickle.load(open('drive/My Drive/FYP/Pickle/[RAVDESS][MEL_SPECT][X_test].p', 'rb'))"
      ]
    },
    {
      "cell_type": "code",
      "execution_count": null,
      "metadata": {
        "id": "q_3QiW-aDVPX"
      },
      "outputs": [],
      "source": [
        ""
      ]
    },
    {
      "cell_type": "code",
      "execution_count": null,
      "metadata": {
        "id": "iTY3-pprDFEV",
        "colab": {
          "base_uri": "https://localhost:8080/"
        },
        "outputId": "44e1acc1-b650-4b10-a8f9-4b1aa7109b32"
      },
      "outputs": [
        {
          "output_type": "stream",
          "name": "stdout",
          "text": [
            "Data after augmentation: \n",
            "X_train :  3225\n",
            "X_test  :  807\n",
            "Total audio files:  4032\n"
          ]
        }
      ],
      "source": [
        "print(\"Data after augmentation: \")\n",
        "print(\"X_train : \",len(X_train))\n",
        "print(\"X_test  : \",len(X_test))\n",
        "print(\"Total audio files: \",len(X_train)+len(X_test))"
      ]
    },
    {
      "cell_type": "code",
      "execution_count": null,
      "metadata": {
        "id": "HGGImqnzuD1T"
      },
      "outputs": [],
      "source": [
        "lb = LabelEncoder()\n",
        "y_train = np_utils.to_categorical(lb.fit_transform(np.ravel(y_train)))\n",
        "y_test = np_utils.to_categorical(lb.transform(np.ravel(y_test)))"
      ]
    },
    {
      "cell_type": "code",
      "execution_count": null,
      "metadata": {
        "id": "nJPij1oruVBM"
      },
      "outputs": [],
      "source": [
        "# Reshape for convolution\n",
        "X_train = X_train.reshape(X_train.shape[0], X_train.shape[1] , X_train.shape[2], X_train.shape[3], 1)\n",
        "X_test = X_test.reshape(X_test.shape[0], X_test.shape[1] , X_test.shape[2], X_test.shape[3], 1)"
      ]
    },
    {
      "cell_type": "code",
      "execution_count": null,
      "metadata": {
        "id": "0fyvNke_Pj2h",
        "colab": {
          "base_uri": "https://localhost:8080/"
        },
        "outputId": "96ece013-e28e-45ab-9d6e-f26ac1967105"
      },
      "outputs": [
        {
          "output_type": "execute_result",
          "data": {
            "text/plain": [
              "(5, 128, 128, 1)"
            ]
          },
          "metadata": {},
          "execution_count": 7
        }
      ],
      "source": [
        "X_train.shape[1:]"
      ]
    },
    {
      "cell_type": "code",
      "execution_count": null,
      "metadata": {
        "id": "Sm5fGHFCuX_Y",
        "colab": {
          "base_uri": "https://localhost:8080/"
        },
        "outputId": "383313fb-31b0-446f-8d65-81f7b279d799"
      },
      "outputs": [
        {
          "output_type": "stream",
          "name": "stdout",
          "text": [
            "Model: \"model\"\n",
            "_________________________________________________________________\n",
            " Layer (type)                Output Shape              Param #   \n",
            "=================================================================\n",
            " Input_MELSPECT (InputLayer)  [(None, 5, 128, 128, 1)]  0        \n",
            "                                                                 \n",
            " Conv_1_MELSPECT (TimeDistri  (None, 5, 128, 128, 64)  640       \n",
            " buted)                                                          \n",
            "                                                                 \n",
            " BatchNorm_1_MELSPECT (TimeD  (None, 5, 128, 128, 64)  256       \n",
            " istributed)                                                     \n",
            "                                                                 \n",
            " Activ_1_MELSPECT (TimeDistr  (None, 5, 128, 128, 64)  0         \n",
            " ibuted)                                                         \n",
            "                                                                 \n",
            " MaxPool_1_MELSPECT (TimeDis  (None, 5, 64, 64, 64)    0         \n",
            " tributed)                                                       \n",
            "                                                                 \n",
            " Drop_1_MELSPECT (TimeDistri  (None, 5, 64, 64, 64)    0         \n",
            " buted)                                                          \n",
            "                                                                 \n",
            " Conv_2_MELSPECT (TimeDistri  (None, 5, 64, 64, 64)    36928     \n",
            " buted)                                                          \n",
            "                                                                 \n",
            " BatchNorm_2_MELSPECT (TimeD  (None, 5, 64, 64, 64)    256       \n",
            " istributed)                                                     \n",
            "                                                                 \n",
            " Activ_2_MELSPECT (TimeDistr  (None, 5, 64, 64, 64)    0         \n",
            " ibuted)                                                         \n",
            "                                                                 \n",
            " MaxPool_2_MELSPECT (TimeDis  (None, 5, 16, 16, 64)    0         \n",
            " tributed)                                                       \n",
            "                                                                 \n",
            " Drop_2_MELSPECT (TimeDistri  (None, 5, 16, 16, 64)    0         \n",
            " buted)                                                          \n",
            "                                                                 \n",
            " Conv_3_MELSPECT (TimeDistri  (None, 5, 16, 16, 128)   73856     \n",
            " buted)                                                          \n",
            "                                                                 \n",
            " BatchNorm_3_MELSPECT (TimeD  (None, 5, 16, 16, 128)   512       \n",
            " istributed)                                                     \n",
            "                                                                 \n",
            " Activ_3_MELSPECT (TimeDistr  (None, 5, 16, 16, 128)   0         \n",
            " ibuted)                                                         \n",
            "                                                                 \n",
            " MaxPool_3_MELSPECT (TimeDis  (None, 5, 4, 4, 128)     0         \n",
            " tributed)                                                       \n",
            "                                                                 \n",
            " Drop_3_MELSPECT (TimeDistri  (None, 5, 4, 4, 128)     0         \n",
            " buted)                                                          \n",
            "                                                                 \n",
            " Conv_4_MELSPECT (TimeDistri  (None, 5, 4, 4, 128)     147584    \n",
            " buted)                                                          \n",
            "                                                                 \n",
            " BatchNorm_4_MELSPECT (TimeD  (None, 5, 4, 4, 128)     512       \n",
            " istributed)                                                     \n",
            "                                                                 \n",
            " Activ_4_MELSPECT (TimeDistr  (None, 5, 4, 4, 128)     0         \n",
            " ibuted)                                                         \n",
            "                                                                 \n",
            " MaxPool_4_MELSPECT (TimeDis  (None, 5, 1, 1, 128)     0         \n",
            " tributed)                                                       \n",
            "                                                                 \n",
            " Drop_4_MELSPECT (TimeDistri  (None, 5, 1, 1, 128)     0         \n",
            " buted)                                                          \n",
            "                                                                 \n",
            " Flat_MELSPECT (TimeDistribu  (None, 5, 128)           0         \n",
            " ted)                                                            \n",
            "                                                                 \n",
            " LSTM_1 (LSTM)               (None, 256)               394240    \n",
            "                                                                 \n",
            " FC (Dense)                  (None, 7)                 1799      \n",
            "                                                                 \n",
            "=================================================================\n",
            "Total params: 656,583\n",
            "Trainable params: 655,815\n",
            "Non-trainable params: 768\n",
            "_________________________________________________________________\n"
          ]
        }
      ],
      "source": [
        "K.clear_session()\n",
        "\n",
        "input_y = Input(shape=X_train.shape[1:], name='Input_MELSPECT')\n",
        "\n",
        "y = TimeDistributed(Conv2D(64, kernel_size=(3, 3), padding='same'), name='Conv_1_MELSPECT')(input_y)\n",
        "y = TimeDistributed(BatchNormalization(), name='BatchNorm_1_MELSPECT')(y)\n",
        "y = TimeDistributed(Activation('elu'), name='Activ_1_MELSPECT')(y)\n",
        "y = TimeDistributed(MaxPooling2D(pool_size=(2, 2), strides=(2, 2), padding='same'), name='MaxPool_1_MELSPECT')(y)\n",
        "y = TimeDistributed(Dropout(0.2), name='Drop_1_MELSPECT')(y)     \n",
        "\n",
        "y = TimeDistributed(Conv2D(64, kernel_size=(3, 3), strides=(1, 1), padding='same'), name='Conv_2_MELSPECT')(y)\n",
        "y = TimeDistributed(BatchNormalization(), name='BatchNorm_2_MELSPECT')(y)\n",
        "y = TimeDistributed(Activation('elu'), name='Activ_2_MELSPECT')(y)\n",
        "y = TimeDistributed(MaxPooling2D(pool_size=(4, 4), strides=(4, 4), padding='same'), name='MaxPool_2_MELSPECT')(y)\n",
        "y = TimeDistributed(Dropout(0.2), name='Drop_2_MELSPECT')(y)\n",
        "\n",
        "y = TimeDistributed(Conv2D(128, kernel_size=(3, 3), strides=(1, 1), padding='same'), name='Conv_3_MELSPECT')(y)\n",
        "y = TimeDistributed(BatchNormalization(), name='BatchNorm_3_MELSPECT')(y)\n",
        "y = TimeDistributed(Activation('elu'), name='Activ_3_MELSPECT')(y)\n",
        "y = TimeDistributed(MaxPooling2D(pool_size=(4, 4), strides=(4, 4), padding='same'), name='MaxPool_3_MELSPECT')(y)\n",
        "y = TimeDistributed(Dropout(0.2), name='Drop_3_MELSPECT')(y)\n",
        "\n",
        "y = TimeDistributed(Conv2D(128, kernel_size=(3, 3), strides=(1, 1), padding='same'), name='Conv_4_MELSPECT')(y)\n",
        "y = TimeDistributed(BatchNormalization(), name='BatchNorm_4_MELSPECT')(y)\n",
        "y = TimeDistributed(Activation('elu'), name='Activ_4_MELSPECT')(y)\n",
        "y = TimeDistributed(MaxPooling2D(pool_size=(4, 4), strides=(4, 4), padding='same'), name='MaxPool_4_MELSPECT')(y)\n",
        "y = TimeDistributed(Dropout(0.2), name='Drop_4_MELSPECT')(y)  \n",
        "\n",
        "y = TimeDistributed(Flatten(), name='Flat_MELSPECT')(y)                                           \n",
        "# Apply 2 LSTM layer and one FC\n",
        "y = LSTM(256, return_sequences=False, dropout=0.2, name='LSTM_1')(y)\n",
        "y = Dense(y_train.shape[1], activation='softmax', name='FC')(y)\n",
        "\n",
        "# Build final model\n",
        "model = Model(inputs=input_y, outputs=y)\n",
        "model.summary()"
      ]
    },
    {
      "cell_type": "code",
      "execution_count": null,
      "metadata": {
        "colab": {
          "base_uri": "https://localhost:8080/"
        },
        "id": "ZCcXYIPQub35",
        "outputId": "255c4738-9528-4623-d0d7-2cf70f7bb2c9"
      },
      "outputs": [
        {
          "output_type": "stream",
          "name": "stdout",
          "text": [
            "Epoch 1/100\n",
            "51/51 [==============================] - 61s 896ms/step - loss: 1.9466 - accuracy: 0.1730 - val_loss: 2.0251 - val_accuracy: 0.1351\n",
            "Epoch 2/100\n",
            "51/51 [==============================] - 40s 791ms/step - loss: 1.8326 - accuracy: 0.2546 - val_loss: 2.0073 - val_accuracy: 0.2020\n",
            "Epoch 3/100\n",
            "51/51 [==============================] - 40s 790ms/step - loss: 1.7250 - accuracy: 0.3126 - val_loss: 1.9143 - val_accuracy: 0.2491\n",
            "Epoch 4/100\n",
            "51/51 [==============================] - 40s 789ms/step - loss: 1.6479 - accuracy: 0.3346 - val_loss: 1.8171 - val_accuracy: 0.2701\n",
            "Epoch 5/100\n",
            "51/51 [==============================] - 40s 789ms/step - loss: 1.6062 - accuracy: 0.3569 - val_loss: 1.7042 - val_accuracy: 0.3061\n",
            "Epoch 6/100\n",
            "51/51 [==============================] - 40s 787ms/step - loss: 1.5701 - accuracy: 0.3771 - val_loss: 1.8062 - val_accuracy: 0.2726\n",
            "Epoch 7/100\n",
            "51/51 [==============================] - 40s 786ms/step - loss: 1.5466 - accuracy: 0.3907 - val_loss: 1.6799 - val_accuracy: 0.2875\n",
            "Epoch 8/100\n",
            "51/51 [==============================] - 40s 789ms/step - loss: 1.5203 - accuracy: 0.3935 - val_loss: 1.5519 - val_accuracy: 0.3656\n",
            "Epoch 9/100\n",
            "51/51 [==============================] - 40s 788ms/step - loss: 1.4825 - accuracy: 0.4195 - val_loss: 1.4947 - val_accuracy: 0.3879\n",
            "Epoch 10/100\n",
            "51/51 [==============================] - 43s 836ms/step - loss: 1.4482 - accuracy: 0.4363 - val_loss: 1.4421 - val_accuracy: 0.4176\n",
            "Epoch 11/100\n",
            "51/51 [==============================] - 40s 787ms/step - loss: 1.4222 - accuracy: 0.4456 - val_loss: 1.4529 - val_accuracy: 0.4275\n",
            "Epoch 12/100\n",
            "51/51 [==============================] - 40s 787ms/step - loss: 1.3932 - accuracy: 0.4505 - val_loss: 1.3789 - val_accuracy: 0.4337\n",
            "Epoch 13/100\n",
            "51/51 [==============================] - 40s 786ms/step - loss: 1.3896 - accuracy: 0.4667 - val_loss: 1.6599 - val_accuracy: 0.4089\n",
            "Epoch 14/100\n",
            "51/51 [==============================] - 40s 787ms/step - loss: 1.3597 - accuracy: 0.4781 - val_loss: 1.4273 - val_accuracy: 0.4461\n",
            "Epoch 15/100\n",
            "51/51 [==============================] - 40s 787ms/step - loss: 1.3294 - accuracy: 0.4887 - val_loss: 1.3546 - val_accuracy: 0.4882\n",
            "Epoch 16/100\n",
            "51/51 [==============================] - 40s 786ms/step - loss: 1.3012 - accuracy: 0.5048 - val_loss: 1.3261 - val_accuracy: 0.4696\n",
            "Epoch 17/100\n",
            "51/51 [==============================] - 40s 786ms/step - loss: 1.2904 - accuracy: 0.5042 - val_loss: 1.4102 - val_accuracy: 0.4287\n",
            "Epoch 18/100\n",
            "51/51 [==============================] - 40s 787ms/step - loss: 1.2740 - accuracy: 0.5091 - val_loss: 1.2666 - val_accuracy: 0.5242\n",
            "Epoch 19/100\n",
            "51/51 [==============================] - 40s 785ms/step - loss: 1.2358 - accuracy: 0.5284 - val_loss: 1.2912 - val_accuracy: 0.5019\n",
            "Epoch 20/100\n",
            "51/51 [==============================] - 40s 785ms/step - loss: 1.2338 - accuracy: 0.5299 - val_loss: 1.5215 - val_accuracy: 0.4176\n",
            "Epoch 21/100\n",
            "51/51 [==============================] - 40s 786ms/step - loss: 1.2114 - accuracy: 0.5377 - val_loss: 1.3903 - val_accuracy: 0.4919\n",
            "Epoch 22/100\n",
            "51/51 [==============================] - 40s 786ms/step - loss: 1.1868 - accuracy: 0.5532 - val_loss: 1.3895 - val_accuracy: 0.4734\n",
            "Epoch 23/100\n",
            "51/51 [==============================] - 40s 786ms/step - loss: 1.1595 - accuracy: 0.5597 - val_loss: 1.5919 - val_accuracy: 0.4362\n",
            "Epoch 24/100\n",
            "51/51 [==============================] - 40s 786ms/step - loss: 1.1755 - accuracy: 0.5519 - val_loss: 1.5046 - val_accuracy: 0.4461\n",
            "Epoch 25/100\n",
            "51/51 [==============================] - 40s 785ms/step - loss: 1.1163 - accuracy: 0.5767 - val_loss: 1.4324 - val_accuracy: 0.4734\n",
            "Epoch 26/100\n",
            "51/51 [==============================] - 40s 786ms/step - loss: 1.1088 - accuracy: 0.5740 - val_loss: 1.3394 - val_accuracy: 0.5130\n",
            "Epoch 27/100\n",
            "51/51 [==============================] - 40s 786ms/step - loss: 1.0840 - accuracy: 0.5904 - val_loss: 1.6502 - val_accuracy: 0.4238\n",
            "Epoch 28/100\n",
            "51/51 [==============================] - 40s 785ms/step - loss: 1.0752 - accuracy: 0.5919 - val_loss: 1.4275 - val_accuracy: 0.5093\n",
            "Epoch 29/100\n",
            "51/51 [==============================] - 40s 786ms/step - loss: 1.0325 - accuracy: 0.6171 - val_loss: 1.7968 - val_accuracy: 0.3953\n",
            "Epoch 30/100\n",
            "51/51 [==============================] - 40s 787ms/step - loss: 1.0361 - accuracy: 0.6040 - val_loss: 1.1648 - val_accuracy: 0.5452\n",
            "Epoch 31/100\n",
            "51/51 [==============================] - 40s 787ms/step - loss: 0.9930 - accuracy: 0.6242 - val_loss: 1.1565 - val_accuracy: 0.5564\n",
            "Epoch 32/100\n",
            "51/51 [==============================] - 40s 786ms/step - loss: 0.9825 - accuracy: 0.6202 - val_loss: 1.4672 - val_accuracy: 0.4696\n",
            "Epoch 33/100\n",
            "51/51 [==============================] - 40s 785ms/step - loss: 0.9618 - accuracy: 0.6316 - val_loss: 1.4828 - val_accuracy: 0.4944\n",
            "Epoch 34/100\n",
            "51/51 [==============================] - 40s 786ms/step - loss: 0.9661 - accuracy: 0.6353 - val_loss: 1.4875 - val_accuracy: 0.5105\n",
            "Epoch 35/100\n",
            "51/51 [==============================] - 40s 786ms/step - loss: 0.9339 - accuracy: 0.6381 - val_loss: 1.4814 - val_accuracy: 0.5143\n",
            "Epoch 36/100\n",
            "51/51 [==============================] - 40s 785ms/step - loss: 0.9175 - accuracy: 0.6586 - val_loss: 1.3171 - val_accuracy: 0.5390\n",
            "Epoch 37/100\n",
            "51/51 [==============================] - 40s 785ms/step - loss: 0.8956 - accuracy: 0.6673 - val_loss: 1.5782 - val_accuracy: 0.4932\n",
            "Epoch 38/100\n",
            "51/51 [==============================] - 40s 787ms/step - loss: 0.8869 - accuracy: 0.6660 - val_loss: 0.9863 - val_accuracy: 0.6283\n",
            "Epoch 39/100\n",
            "51/51 [==============================] - 40s 785ms/step - loss: 0.8757 - accuracy: 0.6605 - val_loss: 1.4944 - val_accuracy: 0.5551\n",
            "Epoch 40/100\n",
            "51/51 [==============================] - 40s 786ms/step - loss: 0.8588 - accuracy: 0.6747 - val_loss: 1.0805 - val_accuracy: 0.6183\n",
            "Epoch 41/100\n",
            "51/51 [==============================] - 40s 786ms/step - loss: 0.8509 - accuracy: 0.6707 - val_loss: 1.0419 - val_accuracy: 0.6183\n",
            "Epoch 42/100\n",
            "51/51 [==============================] - 40s 785ms/step - loss: 0.8128 - accuracy: 0.6930 - val_loss: 1.2316 - val_accuracy: 0.5601\n",
            "Epoch 43/100\n",
            "51/51 [==============================] - 40s 786ms/step - loss: 0.8248 - accuracy: 0.6912 - val_loss: 1.2404 - val_accuracy: 0.5737\n",
            "Epoch 44/100\n",
            "51/51 [==============================] - 40s 786ms/step - loss: 0.8137 - accuracy: 0.6930 - val_loss: 1.1190 - val_accuracy: 0.5762\n",
            "Epoch 45/100\n",
            "51/51 [==============================] - 40s 785ms/step - loss: 0.8024 - accuracy: 0.6943 - val_loss: 1.2435 - val_accuracy: 0.5713\n",
            "Epoch 46/100\n",
            "51/51 [==============================] - 40s 787ms/step - loss: 0.7828 - accuracy: 0.7138 - val_loss: 0.9272 - val_accuracy: 0.6394\n",
            "Epoch 47/100\n",
            "51/51 [==============================] - 40s 785ms/step - loss: 0.7769 - accuracy: 0.7048 - val_loss: 1.3010 - val_accuracy: 0.5613\n",
            "Epoch 48/100\n",
            "51/51 [==============================] - 40s 785ms/step - loss: 0.7444 - accuracy: 0.7212 - val_loss: 1.0858 - val_accuracy: 0.6109\n",
            "Epoch 49/100\n",
            "51/51 [==============================] - 40s 786ms/step - loss: 0.7189 - accuracy: 0.7343 - val_loss: 1.4929 - val_accuracy: 0.5155\n",
            "Epoch 50/100\n",
            "51/51 [==============================] - 40s 785ms/step - loss: 0.7365 - accuracy: 0.7225 - val_loss: 1.3779 - val_accuracy: 0.5229\n",
            "Epoch 51/100\n",
            "51/51 [==============================] - 40s 785ms/step - loss: 0.7016 - accuracy: 0.7380 - val_loss: 1.5560 - val_accuracy: 0.5105\n",
            "Epoch 52/100\n",
            "51/51 [==============================] - 40s 787ms/step - loss: 0.7131 - accuracy: 0.7355 - val_loss: 1.1248 - val_accuracy: 0.5812\n",
            "Epoch 53/100\n",
            "51/51 [==============================] - 40s 788ms/step - loss: 0.6938 - accuracy: 0.7402 - val_loss: 1.0363 - val_accuracy: 0.6406\n",
            "Epoch 54/100\n",
            "51/51 [==============================] - 40s 785ms/step - loss: 0.6612 - accuracy: 0.7491 - val_loss: 1.5742 - val_accuracy: 0.4981\n",
            "Epoch 55/100\n",
            "51/51 [==============================] - 40s 785ms/step - loss: 0.6609 - accuracy: 0.7609 - val_loss: 1.1731 - val_accuracy: 0.5936\n",
            "Epoch 56/100\n",
            "51/51 [==============================] - 40s 786ms/step - loss: 0.6540 - accuracy: 0.7513 - val_loss: 2.1631 - val_accuracy: 0.3965\n",
            "Epoch 57/100\n",
            "51/51 [==============================] - 40s 787ms/step - loss: 0.6493 - accuracy: 0.7616 - val_loss: 0.9337 - val_accuracy: 0.6753\n",
            "Epoch 58/100\n",
            "51/51 [==============================] - 40s 785ms/step - loss: 0.6152 - accuracy: 0.7687 - val_loss: 1.1581 - val_accuracy: 0.6047\n",
            "Epoch 59/100\n",
            "51/51 [==============================] - 40s 786ms/step - loss: 0.6024 - accuracy: 0.7854 - val_loss: 1.1788 - val_accuracy: 0.5886\n",
            "Epoch 60/100\n",
            "51/51 [==============================] - 40s 788ms/step - loss: 0.6201 - accuracy: 0.7724 - val_loss: 0.8478 - val_accuracy: 0.6853\n",
            "Epoch 61/100\n",
            "51/51 [==============================] - 40s 786ms/step - loss: 0.5762 - accuracy: 0.7820 - val_loss: 0.9947 - val_accuracy: 0.6518\n",
            "Epoch 62/100\n",
            "51/51 [==============================] - 40s 786ms/step - loss: 0.5874 - accuracy: 0.7910 - val_loss: 1.2258 - val_accuracy: 0.5886\n",
            "Epoch 63/100\n",
            "51/51 [==============================] - 40s 786ms/step - loss: 0.5578 - accuracy: 0.7947 - val_loss: 0.9908 - val_accuracy: 0.6481\n",
            "Epoch 64/100\n",
            "51/51 [==============================] - 40s 786ms/step - loss: 0.5824 - accuracy: 0.7814 - val_loss: 1.0931 - val_accuracy: 0.6258\n",
            "Epoch 65/100\n",
            "51/51 [==============================] - 40s 786ms/step - loss: 0.5645 - accuracy: 0.7904 - val_loss: 1.4528 - val_accuracy: 0.5725\n",
            "Epoch 66/100\n",
            "51/51 [==============================] - 40s 785ms/step - loss: 0.5515 - accuracy: 0.7960 - val_loss: 0.9542 - val_accuracy: 0.6605\n",
            "Epoch 67/100\n",
            "51/51 [==============================] - 40s 785ms/step - loss: 0.5429 - accuracy: 0.7988 - val_loss: 1.0009 - val_accuracy: 0.6468\n",
            "Epoch 68/100\n",
            "51/51 [==============================] - 40s 786ms/step - loss: 0.5395 - accuracy: 0.7991 - val_loss: 1.1090 - val_accuracy: 0.6357\n",
            "Epoch 69/100\n",
            "51/51 [==============================] - 40s 785ms/step - loss: 0.5223 - accuracy: 0.8043 - val_loss: 0.9362 - val_accuracy: 0.6580\n",
            "Epoch 70/100\n",
            "51/51 [==============================] - 40s 785ms/step - loss: 0.5122 - accuracy: 0.8171 - val_loss: 1.6120 - val_accuracy: 0.5440\n",
            "Epoch 71/100\n",
            "51/51 [==============================] - 40s 785ms/step - loss: 0.5207 - accuracy: 0.8081 - val_loss: 1.3244 - val_accuracy: 0.5787\n",
            "Epoch 72/100\n",
            "51/51 [==============================] - 40s 786ms/step - loss: 0.4959 - accuracy: 0.8140 - val_loss: 0.9665 - val_accuracy: 0.6568\n",
            "Epoch 73/100\n",
            "51/51 [==============================] - 40s 788ms/step - loss: 0.4774 - accuracy: 0.8186 - val_loss: 0.8868 - val_accuracy: 0.6989\n",
            "Epoch 74/100\n",
            "51/51 [==============================] - 40s 787ms/step - loss: 0.4775 - accuracy: 0.8198 - val_loss: 0.9414 - val_accuracy: 0.7212\n",
            "Epoch 75/100\n",
            "51/51 [==============================] - 40s 785ms/step - loss: 0.4673 - accuracy: 0.8282 - val_loss: 1.0139 - val_accuracy: 0.6394\n",
            "Epoch 76/100\n",
            "51/51 [==============================] - 40s 785ms/step - loss: 0.4514 - accuracy: 0.8332 - val_loss: 0.8013 - val_accuracy: 0.7175\n",
            "Epoch 77/100\n",
            "51/51 [==============================] - 40s 785ms/step - loss: 0.4187 - accuracy: 0.8471 - val_loss: 1.0503 - val_accuracy: 0.6543\n",
            "Epoch 78/100\n",
            "51/51 [==============================] - 40s 784ms/step - loss: 0.4405 - accuracy: 0.8335 - val_loss: 1.0179 - val_accuracy: 0.6394\n",
            "Epoch 79/100\n",
            "51/51 [==============================] - 40s 786ms/step - loss: 0.4128 - accuracy: 0.8419 - val_loss: 1.0998 - val_accuracy: 0.6283\n",
            "Epoch 80/100\n",
            "51/51 [==============================] - 40s 786ms/step - loss: 0.4194 - accuracy: 0.8391 - val_loss: 0.8830 - val_accuracy: 0.7014\n",
            "Epoch 81/100\n",
            "51/51 [==============================] - 40s 787ms/step - loss: 0.3779 - accuracy: 0.8623 - val_loss: 0.8198 - val_accuracy: 0.7286\n",
            "Epoch 82/100\n",
            "51/51 [==============================] - 40s 785ms/step - loss: 0.4036 - accuracy: 0.8533 - val_loss: 0.9528 - val_accuracy: 0.7175\n",
            "Epoch 83/100\n",
            "51/51 [==============================] - 40s 786ms/step - loss: 0.3937 - accuracy: 0.8515 - val_loss: 0.8469 - val_accuracy: 0.7113\n",
            "Epoch 84/100\n",
            "51/51 [==============================] - 40s 785ms/step - loss: 0.3653 - accuracy: 0.8626 - val_loss: 0.9681 - val_accuracy: 0.7026\n",
            "Epoch 85/100\n",
            "51/51 [==============================] - 40s 786ms/step - loss: 0.3610 - accuracy: 0.8719 - val_loss: 1.0521 - val_accuracy: 0.6902\n",
            "Epoch 86/100\n",
            "51/51 [==============================] - 40s 788ms/step - loss: 0.3611 - accuracy: 0.8716 - val_loss: 0.7547 - val_accuracy: 0.7398\n",
            "Epoch 87/100\n",
            "51/51 [==============================] - 40s 785ms/step - loss: 0.3496 - accuracy: 0.8775 - val_loss: 0.9306 - val_accuracy: 0.7063\n",
            "Epoch 88/100\n",
            "51/51 [==============================] - 40s 786ms/step - loss: 0.3443 - accuracy: 0.8794 - val_loss: 0.9961 - val_accuracy: 0.6691\n",
            "Epoch 89/100\n",
            "51/51 [==============================] - 40s 786ms/step - loss: 0.3359 - accuracy: 0.8713 - val_loss: 1.7204 - val_accuracy: 0.5824\n",
            "Epoch 90/100\n",
            "51/51 [==============================] - 40s 786ms/step - loss: 0.3515 - accuracy: 0.8667 - val_loss: 1.2012 - val_accuracy: 0.6456\n",
            "Epoch 91/100\n",
            "51/51 [==============================] - 40s 787ms/step - loss: 0.3061 - accuracy: 0.8912 - val_loss: 1.0629 - val_accuracy: 0.6778\n",
            "Epoch 92/100\n",
            "51/51 [==============================] - 40s 787ms/step - loss: 0.3083 - accuracy: 0.8927 - val_loss: 1.5040 - val_accuracy: 0.6307\n",
            "Epoch 93/100\n",
            "51/51 [==============================] - 40s 786ms/step - loss: 0.3223 - accuracy: 0.8840 - val_loss: 1.0969 - val_accuracy: 0.6803\n",
            "Epoch 94/100\n",
            "51/51 [==============================] - 40s 788ms/step - loss: 0.2921 - accuracy: 0.8943 - val_loss: 1.0489 - val_accuracy: 0.6927\n",
            "Epoch 95/100\n",
            "51/51 [==============================] - 40s 786ms/step - loss: 0.3191 - accuracy: 0.8884 - val_loss: 1.2318 - val_accuracy: 0.6530\n",
            "Epoch 96/100\n",
            "51/51 [==============================] - 40s 786ms/step - loss: 0.2988 - accuracy: 0.8977 - val_loss: 0.9332 - val_accuracy: 0.7014\n",
            "Epoch 97/100\n",
            "51/51 [==============================] - 40s 787ms/step - loss: 0.3107 - accuracy: 0.8878 - val_loss: 1.0948 - val_accuracy: 0.6753\n",
            "Epoch 98/100\n",
            "51/51 [==============================] - 40s 787ms/step - loss: 0.2946 - accuracy: 0.8936 - val_loss: 1.0650 - val_accuracy: 0.7113\n",
            "Epoch 99/100\n",
            "51/51 [==============================] - 40s 787ms/step - loss: 0.2727 - accuracy: 0.9023 - val_loss: 1.1399 - val_accuracy: 0.6518\n",
            "Epoch 100/100\n",
            "51/51 [==============================] - 40s 787ms/step - loss: 0.2689 - accuracy: 0.9057 - val_loss: 1.1903 - val_accuracy: 0.6431\n"
          ]
        }
      ],
      "source": [
        "# Compile model\n",
        "model.compile(optimizer=SGD(lr=0.01, decay=1e-6, momentum=0.8), loss='categorical_crossentropy', metrics=['accuracy'])\n",
        "\n",
        "# Save best model\n",
        "best_model_save = ModelCheckpoint('CNN_LSTM_Model.hdf5', save_best_only=True, monitor='val_accuracy', mode='max')\n",
        "\n",
        "# Early stopping\n",
        "early_stopping = EarlyStopping(monitor='val_accuracy', patience=30, verbose=1, mode='max')\n",
        "\n",
        "# Fit model\n",
        "history = model.fit(X_train, y_train, batch_size=64, epochs=100, validation_data=(X_test, y_test), callbacks=[early_stopping, best_model_save,tf.keras.callbacks.CSVLogger('drive/My Drive/FYP/Pickle/source_history.csv')])"
      ]
    },
    {
      "cell_type": "code",
      "execution_count": null,
      "metadata": {
        "id": "P0O7q1GnUyr8",
        "colab": {
          "base_uri": "https://localhost:8080/"
        },
        "outputId": "c815a5f4-2a0b-4613-edbe-e143e51cb312"
      },
      "outputs": [
        {
          "output_type": "stream",
          "name": "stdout",
          "text": [
            "26/26 [==============================] - 4s 124ms/step - loss: 1.1903 - accuracy: 0.6431\n"
          ]
        },
        {
          "output_type": "execute_result",
          "data": {
            "text/plain": [
              "[1.190339207649231, 0.643122673034668]"
            ]
          },
          "metadata": {},
          "execution_count": 10
        }
      ],
      "source": [
        "model.evaluate(X_test,y_test)"
      ]
    },
    {
      "cell_type": "code",
      "execution_count": null,
      "metadata": {
        "id": "a2z59hZsuiPq"
      },
      "outputs": [],
      "source": [
        "y_pred=model.predict(X_test)\n",
        "y_classes = y_pred.argmax(axis=-1)"
      ]
    },
    {
      "cell_type": "code",
      "source": [
        "np.unique(y_classes)"
      ],
      "metadata": {
        "id": "pHFVtFd4dtfi",
        "colab": {
          "base_uri": "https://localhost:8080/"
        },
        "outputId": "3a487761-0357-4dfe-a51b-dcf4aa5f7cb8"
      },
      "execution_count": null,
      "outputs": [
        {
          "output_type": "execute_result",
          "data": {
            "text/plain": [
              "array([0, 1, 2, 3, 4, 5, 6])"
            ]
          },
          "metadata": {},
          "execution_count": 12
        }
      ]
    },
    {
      "cell_type": "code",
      "source": [
        "my_dict={}"
      ],
      "metadata": {
        "id": "5BAUqd64e3wi"
      },
      "execution_count": null,
      "outputs": []
    },
    {
      "cell_type": "code",
      "source": [
        "# np.vectorize(my_dict.get)(a)"
      ],
      "metadata": {
        "id": "HYNpByIle2xc"
      },
      "execution_count": null,
      "outputs": []
    },
    {
      "cell_type": "code",
      "execution_count": null,
      "metadata": {
        "id": "DQ4Z89mUUHbK"
      },
      "outputs": [],
      "source": [
        "model.save('drive/My Drive/Pickle/[CNN-LSTM]M.h5')\n",
        "model.save_weights('drive/My Drive/Pickle/[CNN-LSTM]W.h5')"
      ]
    },
    {
      "cell_type": "code",
      "source": [
        "# unaugmented_model = tf.keras.models.load_model('/content/drive/MyDrive/Pickle/unaugmented[CNN-LSTM]M.h5')\n",
        "# unaugmented_model.load_weights('/content/drive/MyDrive/Pickle/unaugmented[CNN-LSTM]M.h5')"
      ],
      "metadata": {
        "id": "nSoeSeXT_CIy"
      },
      "execution_count": null,
      "outputs": []
    },
    {
      "cell_type": "code",
      "source": [
        "# loss, acc = new_model.evaluate(x_test, y_test, verbose=0)\n",
        "# print(f\"test accuracy {acc*100}\")"
      ],
      "metadata": {
        "id": "XopXJMH3A1Aj"
      },
      "execution_count": null,
      "outputs": []
    },
    {
      "cell_type": "code",
      "source": [
        "import pandas\n",
        "history = {} \n",
        "history[\"history\"] = pandas.read_csv('/content/drive/MyDrive/FYP/Pickle/source_history.csv') \n",
        "history[\"history\"].head()\n",
        "plt.figure(figsize=(25,10))\n",
        "plt.subplot(1,2,1)\n",
        "plt.plot(history['history']['accuracy'],'-b')\n",
        "plt.plot(history['history']['val_accuracy'],'r')\n",
        "plt.legend(['Training accuracy','Validation accuracy'])\n",
        "print(\"max accuracy: \",max(history[\"history\"][\"val_accuracy\"]))\n",
        "plt.axis([0, 100, 0, 1])\n",
        "plt.xlabel('Epochs')\n",
        "plt.ylabel('Accuracy')"
      ],
      "metadata": {
        "colab": {
          "base_uri": "https://localhost:8080/",
          "height": 645
        },
        "id": "ZOvov944f5Ke",
        "outputId": "db628734-63f1-4683-c172-adb7ee9303e6"
      },
      "execution_count": null,
      "outputs": [
        {
          "output_type": "stream",
          "name": "stdout",
          "text": [
            "max accuracy:  0.7397769689559937\n"
          ]
        },
        {
          "output_type": "execute_result",
          "data": {
            "text/plain": [
              "Text(0, 0.5, 'Accuracy')"
            ]
          },
          "metadata": {},
          "execution_count": 20
        },
        {
          "output_type": "display_data",
          "data": {
            "text/plain": [
              "<Figure size 1800x720 with 1 Axes>"
            ],
            "image/png": "[encoded data removed]"
          },
          "metadata": {
            "needs_background": "light"
          }
        }
      ]
    },
    {
      "cell_type": "code",
      "execution_count": null,
      "metadata": {
        "id": "AfNGD0f1fLdd",
        "colab": {
          "base_uri": "https://localhost:8080/",
          "height": 627
        },
        "outputId": "7b4d2559-f8d3-472f-c14b-bdd6b38d2a7b"
      },
      "outputs": [
        {
          "output_type": "execute_result",
          "data": {
            "text/plain": [
              "Text(0, 0.5, 'Accuracy')"
            ]
          },
          "metadata": {},
          "execution_count": 17
        },
        {
          "output_type": "display_data",
          "data": {
            "text/plain": [
              "<Figure size 1800x720 with 1 Axes>"
            ],
            "image/png": "[encoded data removed]"
          },
          "metadata": {
            "needs_background": "light"
          }
        }
      ],
      "source": [
        "import pandas\n",
        "history = {} \n",
        "history[\"history\"] = pandas.read_csv('/content/drive/MyDrive/FYP/Pickle/source_history.csv') \n",
        "history[\"history\"].head()\n",
        "plt.figure(figsize=(25,10))\n",
        "plt.subplot(1,2,1)\n",
        "plt.plot(history['history']['accuracy'],'-b')\n",
        "plt.plot(history['history']['val_accuracy'],'r')\n",
        "plt.legend(['Training accuracy','Validation accuracy'])\n",
        "plt.axis([0, 100, 0, 1])\n",
        "plt.xlabel('Epochs')\n",
        "plt.ylabel('Accuracy')"
      ]
    },
    {
      "cell_type": "code",
      "source": [
        "\n",
        "import time\n",
        "while(True):\n",
        "  print(\"Printed immediately.\")\n",
        "  time.sleep(20.5)\n"
      ],
      "metadata": {
        "id": "KZE0ZkCA-C5p",
        "colab": {
          "base_uri": "https://localhost:8080/",
          "height": 1000
        },
        "outputId": "9f071d4a-4018-4f57-a5c4-dd95a0ee2644"
      },
      "execution_count": null,
      "outputs": [
        {
          "output_type": "stream",
          "name": "stdout",
          "text": [
            "Printed immediately.\n",
            "Printed immediately.\n",
            "Printed immediately.\n",
            "Printed immediately.\n",
            "Printed immediately.\n",
            "Printed immediately.\n",
            "Printed immediately.\n",
            "Printed immediately.\n",
            "Printed immediately.\n",
            "Printed immediately.\n",
            "Printed immediately.\n",
            "Printed immediately.\n",
            "Printed immediately.\n",
            "Printed immediately.\n",
            "Printed immediately.\n",
            "Printed immediately.\n",
            "Printed immediately.\n",
            "Printed immediately.\n",
            "Printed immediately.\n",
            "Printed immediately.\n",
            "Printed immediately.\n",
            "Printed immediately.\n",
            "Printed immediately.\n",
            "Printed immediately.\n",
            "Printed immediately.\n",
            "Printed immediately.\n",
            "Printed immediately.\n",
            "Printed immediately.\n",
            "Printed immediately.\n",
            "Printed immediately.\n",
            "Printed immediately.\n",
            "Printed immediately.\n",
            "Printed immediately.\n",
            "Printed immediately.\n",
            "Printed immediately.\n",
            "Printed immediately.\n",
            "Printed immediately.\n",
            "Printed immediately.\n",
            "Printed immediately.\n",
            "Printed immediately.\n",
            "Printed immediately.\n",
            "Printed immediately.\n",
            "Printed immediately.\n",
            "Printed immediately.\n",
            "Printed immediately.\n",
            "Printed immediately.\n",
            "Printed immediately.\n",
            "Printed immediately.\n",
            "Printed immediately.\n",
            "Printed immediately.\n",
            "Printed immediately.\n",
            "Printed immediately.\n",
            "Printed immediately.\n",
            "Printed immediately.\n",
            "Printed immediately.\n",
            "Printed immediately.\n",
            "Printed immediately.\n",
            "Printed immediately.\n",
            "Printed immediately.\n",
            "Printed immediately.\n",
            "Printed immediately.\n",
            "Printed immediately.\n",
            "Printed immediately.\n",
            "Printed immediately.\n",
            "Printed immediately.\n",
            "Printed immediately.\n",
            "Printed immediately.\n",
            "Printed immediately.\n",
            "Printed immediately.\n",
            "Printed immediately.\n",
            "Printed immediately.\n",
            "Printed immediately.\n",
            "Printed immediately.\n",
            "Printed immediately.\n",
            "Printed immediately.\n",
            "Printed immediately.\n",
            "Printed immediately.\n",
            "Printed immediately.\n",
            "Printed immediately.\n",
            "Printed immediately.\n",
            "Printed immediately.\n",
            "Printed immediately.\n",
            "Printed immediately.\n",
            "Printed immediately.\n",
            "Printed immediately.\n",
            "Printed immediately.\n",
            "Printed immediately.\n",
            "Printed immediately.\n",
            "Printed immediately.\n",
            "Printed immediately.\n",
            "Printed immediately.\n",
            "Printed immediately.\n",
            "Printed immediately.\n",
            "Printed immediately.\n",
            "Printed immediately.\n",
            "Printed immediately.\n",
            "Printed immediately.\n",
            "Printed immediately.\n",
            "Printed immediately.\n",
            "Printed immediately.\n",
            "Printed immediately.\n",
            "Printed immediately.\n",
            "Printed immediately.\n",
            "Printed immediately.\n",
            "Printed immediately.\n",
            "Printed immediately.\n",
            "Printed immediately.\n",
            "Printed immediately.\n",
            "Printed immediately.\n",
            "Printed immediately.\n",
            "Printed immediately.\n",
            "Printed immediately.\n",
            "Printed immediately.\n",
            "Printed immediately.\n",
            "Printed immediately.\n",
            "Printed immediately.\n",
            "Printed immediately.\n",
            "Printed immediately.\n",
            "Printed immediately.\n",
            "Printed immediately.\n"
          ]
        },
        {
          "output_type": "error",
          "ename": "KeyboardInterrupt",
          "evalue": "ignored",
          "traceback": [
            "\u001b[0;31m---------------------------------------------------------------------------\u001b[0m",
            "\u001b[0;31mKeyboardInterrupt\u001b[0m                         Traceback (most recent call last)",
            "\u001b[0;32m<ipython-input-22-fc5bc2256982>\u001b[0m in \u001b[0;36m<module>\u001b[0;34m()\u001b[0m\n\u001b[1;32m      3\u001b[0m \u001b[0;32mwhile\u001b[0m\u001b[0;34m(\u001b[0m\u001b[0;32mTrue\u001b[0m\u001b[0;34m)\u001b[0m\u001b[0;34m:\u001b[0m\u001b[0;34m\u001b[0m\u001b[0;34m\u001b[0m\u001b[0m\n\u001b[1;32m      4\u001b[0m   \u001b[0mprint\u001b[0m\u001b[0;34m(\u001b[0m\u001b[0;34m\"Printed immediately.\"\u001b[0m\u001b[0;34m)\u001b[0m\u001b[0;34m\u001b[0m\u001b[0;34m\u001b[0m\u001b[0m\n\u001b[0;32m----> 5\u001b[0;31m   \u001b[0mtime\u001b[0m\u001b[0;34m.\u001b[0m\u001b[0msleep\u001b[0m\u001b[0;34m(\u001b[0m\u001b[0;36m20.5\u001b[0m\u001b[0;34m)\u001b[0m\u001b[0;34m\u001b[0m\u001b[0;34m\u001b[0m\u001b[0m\n\u001b[0m",
            "\u001b[0;31mKeyboardInterrupt\u001b[0m: "
          ]
        }
      ]
    },
    {
      "cell_type": "code",
      "source": [
        "import time\n",
        "while(True):\n",
        "  print(\"Printed immediately.\")\n",
        "  time.sleep(20.5)"
      ],
      "metadata": {
        "colab": {
          "base_uri": "https://localhost:8080/",
          "height": 807
        },
        "id": "bXBThQOBgh-a",
        "outputId": "62e6881a-cc25-4ac3-aefa-4ab9c2ac0943"
      },
      "execution_count": null,
      "outputs": [
        {
          "output_type": "stream",
          "name": "stdout",
          "text": [
            "Printed immediately.\n",
            "Printed immediately.\n",
            "Printed immediately.\n",
            "Printed immediately.\n",
            "Printed immediately.\n",
            "Printed immediately.\n",
            "Printed immediately.\n",
            "Printed immediately.\n",
            "Printed immediately.\n",
            "Printed immediately.\n",
            "Printed immediately.\n",
            "Printed immediately.\n",
            "Printed immediately.\n",
            "Printed immediately.\n",
            "Printed immediately.\n",
            "Printed immediately.\n",
            "Printed immediately.\n",
            "Printed immediately.\n",
            "Printed immediately.\n",
            "Printed immediately.\n",
            "Printed immediately.\n",
            "Printed immediately.\n",
            "Printed immediately.\n",
            "Printed immediately.\n",
            "Printed immediately.\n",
            "Printed immediately.\n",
            "Printed immediately.\n",
            "Printed immediately.\n",
            "Printed immediately.\n",
            "Printed immediately.\n",
            "Printed immediately.\n",
            "Printed immediately.\n",
            "Printed immediately.\n",
            "Printed immediately.\n",
            "Printed immediately.\n"
          ]
        },
        {
          "output_type": "error",
          "ename": "KeyboardInterrupt",
          "evalue": "ignored",
          "traceback": [
            "\u001b[0;31m---------------------------------------------------------------------------\u001b[0m",
            "\u001b[0;31mKeyboardInterrupt\u001b[0m                         Traceback (most recent call last)",
            "\u001b[0;32m<ipython-input-23-a280c08447a8>\u001b[0m in \u001b[0;36m<module>\u001b[0;34m()\u001b[0m\n\u001b[1;32m      2\u001b[0m \u001b[0;32mwhile\u001b[0m\u001b[0;34m(\u001b[0m\u001b[0;32mTrue\u001b[0m\u001b[0;34m)\u001b[0m\u001b[0;34m:\u001b[0m\u001b[0;34m\u001b[0m\u001b[0;34m\u001b[0m\u001b[0m\n\u001b[1;32m      3\u001b[0m   \u001b[0mprint\u001b[0m\u001b[0;34m(\u001b[0m\u001b[0;34m\"Printed immediately.\"\u001b[0m\u001b[0;34m)\u001b[0m\u001b[0;34m\u001b[0m\u001b[0;34m\u001b[0m\u001b[0m\n\u001b[0;32m----> 4\u001b[0;31m   \u001b[0mtime\u001b[0m\u001b[0;34m.\u001b[0m\u001b[0msleep\u001b[0m\u001b[0;34m(\u001b[0m\u001b[0;36m20.5\u001b[0m\u001b[0;34m)\u001b[0m\u001b[0;34m\u001b[0m\u001b[0;34m\u001b[0m\u001b[0m\n\u001b[0m",
            "\u001b[0;31mKeyboardInterrupt\u001b[0m: "
          ]
        }
      ]
    },
    {
      "cell_type": "code",
      "source": [
        ""
      ],
      "metadata": {
        "id": "VLfPLfvCp_Yv"
      },
      "execution_count": null,
      "outputs": []
    }
  ],
  "metadata": {
    "accelerator": "GPU",
    "colab": {
      "name": "Model.ipynb",
      "provenance": [],
      "collapsed_sections": [],
      "include_colab_link": true
    },
    "kernelspec": {
      "display_name": "Python 3",
      "name": "python3"
    },
    "language_info": {
      "name": "python"
    }
  },
  "nbformat": 4,
  "nbformat_minor": 0
}