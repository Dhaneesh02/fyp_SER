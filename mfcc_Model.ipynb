{
  "cells": [
    {
      "cell_type": "markdown",
      "metadata": {
        "id": "view-in-github",
        "colab_type": "text"
      },
      "source": [
        "<a href=\"https://colab.research.google.com/github/Dhaneesh02/fyp_SER/blob/mfcc/mfcc_Model.ipynb\" target=\"_parent\"><img src=\"https://colab.research.google.com/assets/colab-badge.svg\" alt=\"Open In Colab\"/></a>"
      ]
    },
    {
      "cell_type": "code",
      "execution_count": null,
      "metadata": {
        "id": "IXlv2zfHqT7k"
      },
      "outputs": [],
      "source": [
        "from keras.utils.vis_utils import plot_model"
      ]
    },
    {
      "cell_type": "code",
      "execution_count": null,
      "metadata": {
        "id": "i8FR_AIhs4qd"
      },
      "outputs": [],
      "source": [
        "import os\n",
        "from glob import glob\n",
        "import pickle\n",
        "import numpy as np\n",
        "\n",
        "### Plot imports ###\n",
        "from IPython.display import Image\n",
        "import matplotlib.pyplot as plt\n",
        "\n",
        "### Time Distributed ConvNet imports ###\n",
        "import tensorflow as tf\n",
        "from tensorflow.keras.models import Sequential, Model\n",
        "from tensorflow.keras.layers import Input, Dense, Dropout, Activation, TimeDistributed, concatenate\n",
        "from tensorflow.keras.layers import Conv2D, MaxPooling2D, AveragePooling2D, BatchNormalization, LeakyReLU, Flatten\n",
        "from tensorflow.keras.layers import LSTM\n",
        "from tensorflow.keras.optimizers import Adam, SGD\n",
        "from tensorflow.keras.callbacks import EarlyStopping, ModelCheckpoint, ReduceLROnPlateau\n",
        "from tensorflow.keras import backend as K\n",
        "from keras.utils import np_utils\n",
        "from keras.utils.vis_utils import plot_model\n",
        "from sklearn.preprocessing import LabelEncoder\n",
        "\n",
        "### Warning ###\n",
        "import warnings\n",
        "warnings.filterwarnings('ignore')"
      ]
    },
    {
      "cell_type": "code",
      "execution_count": null,
      "metadata": {
        "id": "lkZXrJJFs6Co",
        "colab": {
          "base_uri": "https://localhost:8080/"
        },
        "outputId": "f5febeb5-ae48-4b42-a3b5-18fe3b1a85aa"
      },
      "outputs": [
        {
          "output_type": "stream",
          "name": "stdout",
          "text": [
            "Mounted at /content/drive\n"
          ]
        }
      ],
      "source": [
        "from google.colab import drive\n",
        "drive.mount('/content/drive')"
      ]
    },
    {
      "cell_type": "code",
      "execution_count": null,
      "metadata": {
        "id": "hqD7qk4ms6hQ"
      },
      "outputs": [],
      "source": [
        "X_train = pickle.load(open('drive/My Drive/FYP/Pickle/[RAVDESS][MEL_SPECT][X_train].p', 'rb'))\n",
        "y_train = pickle.load(open('drive/My Drive/FYP/Pickle/[RAVDESS][MEL_SPECT][y_train].p', 'rb'))\n",
        "y_test = pickle.load(open('drive/My Drive/FYP/Pickle/[RAVDESS][MEL_SPECT][y_test].p', 'rb'))\n",
        "X_test = pickle.load(open('drive/My Drive/FYP/Pickle/[RAVDESS][MEL_SPECT][X_test].p', 'rb'))"
      ]
    },
    {
      "cell_type": "code",
      "execution_count": null,
      "metadata": {
        "id": "q_3QiW-aDVPX"
      },
      "outputs": [],
      "source": [
        ""
      ]
    },
    {
      "cell_type": "code",
      "execution_count": null,
      "metadata": {
        "id": "iTY3-pprDFEV",
        "colab": {
          "base_uri": "https://localhost:8080/"
        },
        "outputId": "d721e5d7-0ba6-4599-8848-e56bc2b72830"
      },
      "outputs": [
        {
          "output_type": "stream",
          "name": "stdout",
          "text": [
            "(3225, 5, 128, 128)\n",
            "(3225,)\n",
            "(807, 5, 128, 128)\n",
            "(807,)\n"
          ]
        }
      ],
      "source": [
        "print(X_train.shape)\n",
        "print(y_train.shape)\n",
        "print(X_test.shape)\n",
        "print(y_test.shape)"
      ]
    },
    {
      "cell_type": "code",
      "execution_count": null,
      "metadata": {
        "id": "HGGImqnzuD1T"
      },
      "outputs": [],
      "source": [
        "lb = LabelEncoder()\n",
        "y_train = np_utils.to_categorical(lb.fit_transform(np.ravel(y_train)))\n",
        "y_test = np_utils.to_categorical(lb.transform(np.ravel(y_test)))"
      ]
    },
    {
      "cell_type": "code",
      "execution_count": null,
      "metadata": {
        "id": "nJPij1oruVBM"
      },
      "outputs": [],
      "source": [
        "# Reshape for convolution\n",
        "X_train = X_train.reshape(X_train.shape[0], X_train.shape[1] , X_train.shape[2], X_train.shape[3], 1)\n",
        "X_test = X_test.reshape(X_test.shape[0], X_test.shape[1] , X_test.shape[2], X_test.shape[3], 1)"
      ]
    },
    {
      "cell_type": "code",
      "execution_count": null,
      "metadata": {
        "id": "0fyvNke_Pj2h",
        "colab": {
          "base_uri": "https://localhost:8080/"
        },
        "outputId": "3ae1cf37-006e-4f99-f152-94de1620ba72"
      },
      "outputs": [
        {
          "output_type": "execute_result",
          "data": {
            "text/plain": [
              "(5, 128, 128, 1)"
            ]
          },
          "metadata": {},
          "execution_count": 8
        }
      ],
      "source": [
        "X_train.shape[1:]"
      ]
    },
    {
      "cell_type": "code",
      "execution_count": null,
      "metadata": {
        "id": "Sm5fGHFCuX_Y",
        "colab": {
          "base_uri": "https://localhost:8080/"
        },
        "outputId": "eed359ef-44e4-4df7-e7dc-67344f9c7644"
      },
      "outputs": [
        {
          "output_type": "stream",
          "name": "stdout",
          "text": [
            "Model: \"model\"\n",
            "_________________________________________________________________\n",
            " Layer (type)                Output Shape              Param #   \n",
            "=================================================================\n",
            " Input_MELSPECT (InputLayer)  [(None, 5, 128, 128, 1)]  0        \n",
            "                                                                 \n",
            " Conv_1_MELSPECT (TimeDistri  (None, 5, 128, 128, 64)  640       \n",
            " buted)                                                          \n",
            "                                                                 \n",
            " BatchNorm_1_MELSPECT (TimeD  (None, 5, 128, 128, 64)  256       \n",
            " istributed)                                                     \n",
            "                                                                 \n",
            " Activ_1_MELSPECT (TimeDistr  (None, 5, 128, 128, 64)  0         \n",
            " ibuted)                                                         \n",
            "                                                                 \n",
            " MaxPool_1_MELSPECT (TimeDis  (None, 5, 64, 64, 64)    0         \n",
            " tributed)                                                       \n",
            "                                                                 \n",
            " Drop_1_MELSPECT (TimeDistri  (None, 5, 64, 64, 64)    0         \n",
            " buted)                                                          \n",
            "                                                                 \n",
            " Conv_2_MELSPECT (TimeDistri  (None, 5, 64, 64, 64)    36928     \n",
            " buted)                                                          \n",
            "                                                                 \n",
            " BatchNorm_2_MELSPECT (TimeD  (None, 5, 64, 64, 64)    256       \n",
            " istributed)                                                     \n",
            "                                                                 \n",
            " Activ_2_MELSPECT (TimeDistr  (None, 5, 64, 64, 64)    0         \n",
            " ibuted)                                                         \n",
            "                                                                 \n",
            " MaxPool_2_MELSPECT (TimeDis  (None, 5, 16, 16, 64)    0         \n",
            " tributed)                                                       \n",
            "                                                                 \n",
            " Drop_2_MELSPECT (TimeDistri  (None, 5, 16, 16, 64)    0         \n",
            " buted)                                                          \n",
            "                                                                 \n",
            " Conv_3_MELSPECT (TimeDistri  (None, 5, 16, 16, 128)   73856     \n",
            " buted)                                                          \n",
            "                                                                 \n",
            " BatchNorm_3_MELSPECT (TimeD  (None, 5, 16, 16, 128)   512       \n",
            " istributed)                                                     \n",
            "                                                                 \n",
            " Activ_3_MELSPECT (TimeDistr  (None, 5, 16, 16, 128)   0         \n",
            " ibuted)                                                         \n",
            "                                                                 \n",
            " MaxPool_3_MELSPECT (TimeDis  (None, 5, 4, 4, 128)     0         \n",
            " tributed)                                                       \n",
            "                                                                 \n",
            " Drop_3_MELSPECT (TimeDistri  (None, 5, 4, 4, 128)     0         \n",
            " buted)                                                          \n",
            "                                                                 \n",
            " Conv_4_MELSPECT (TimeDistri  (None, 5, 4, 4, 128)     147584    \n",
            " buted)                                                          \n",
            "                                                                 \n",
            " BatchNorm_4_MELSPECT (TimeD  (None, 5, 4, 4, 128)     512       \n",
            " istributed)                                                     \n",
            "                                                                 \n",
            " Activ_4_MELSPECT (TimeDistr  (None, 5, 4, 4, 128)     0         \n",
            " ibuted)                                                         \n",
            "                                                                 \n",
            " MaxPool_4_MELSPECT (TimeDis  (None, 5, 1, 1, 128)     0         \n",
            " tributed)                                                       \n",
            "                                                                 \n",
            " Drop_4_MELSPECT (TimeDistri  (None, 5, 1, 1, 128)     0         \n",
            " buted)                                                          \n",
            "                                                                 \n",
            " Flat_MELSPECT (TimeDistribu  (None, 5, 128)           0         \n",
            " ted)                                                            \n",
            "                                                                 \n",
            " LSTM_1 (LSTM)               (None, 256)               394240    \n",
            "                                                                 \n",
            " FC (Dense)                  (None, 7)                 1799      \n",
            "                                                                 \n",
            "=================================================================\n",
            "Total params: 656,583\n",
            "Trainable params: 655,815\n",
            "Non-trainable params: 768\n",
            "_________________________________________________________________\n"
          ]
        }
      ],
      "source": [
        "K.clear_session()\n",
        "\n",
        "input_y = Input(shape=X_train.shape[1:], name='Input_MELSPECT')\n",
        "\n",
        "y = TimeDistributed(Conv2D(64, kernel_size=(3, 3), padding='same'), name='Conv_1_MELSPECT')(input_y)\n",
        "y = TimeDistributed(BatchNormalization(), name='BatchNorm_1_MELSPECT')(y)\n",
        "y = TimeDistributed(Activation('elu'), name='Activ_1_MELSPECT')(y)\n",
        "y = TimeDistributed(MaxPooling2D(pool_size=(2, 2), strides=(2, 2), padding='same'), name='MaxPool_1_MELSPECT')(y)\n",
        "y = TimeDistributed(Dropout(0.2), name='Drop_1_MELSPECT')(y)     \n",
        "\n",
        "y = TimeDistributed(Conv2D(64, kernel_size=(3, 3), strides=(1, 1), padding='same'), name='Conv_2_MELSPECT')(y)\n",
        "y = TimeDistributed(BatchNormalization(), name='BatchNorm_2_MELSPECT')(y)\n",
        "y = TimeDistributed(Activation('elu'), name='Activ_2_MELSPECT')(y)\n",
        "y = TimeDistributed(MaxPooling2D(pool_size=(4, 4), strides=(4, 4), padding='same'), name='MaxPool_2_MELSPECT')(y)\n",
        "y = TimeDistributed(Dropout(0.2), name='Drop_2_MELSPECT')(y)\n",
        "\n",
        "y = TimeDistributed(Conv2D(128, kernel_size=(3, 3), strides=(1, 1), padding='same'), name='Conv_3_MELSPECT')(y)\n",
        "y = TimeDistributed(BatchNormalization(), name='BatchNorm_3_MELSPECT')(y)\n",
        "y = TimeDistributed(Activation('elu'), name='Activ_3_MELSPECT')(y)\n",
        "y = TimeDistributed(MaxPooling2D(pool_size=(4, 4), strides=(4, 4), padding='same'), name='MaxPool_3_MELSPECT')(y)\n",
        "y = TimeDistributed(Dropout(0.2), name='Drop_3_MELSPECT')(y)\n",
        "\n",
        "y = TimeDistributed(Conv2D(128, kernel_size=(3, 3), strides=(1, 1), padding='same'), name='Conv_4_MELSPECT')(y)\n",
        "y = TimeDistributed(BatchNormalization(), name='BatchNorm_4_MELSPECT')(y)\n",
        "y = TimeDistributed(Activation('elu'), name='Activ_4_MELSPECT')(y)\n",
        "y = TimeDistributed(MaxPooling2D(pool_size=(4, 4), strides=(4, 4), padding='same'), name='MaxPool_4_MELSPECT')(y)\n",
        "y = TimeDistributed(Dropout(0.2), name='Drop_4_MELSPECT')(y)  \n",
        "\n",
        "y = TimeDistributed(Flatten(), name='Flat_MELSPECT')(y)                                           \n",
        "# Apply 2 LSTM layer and one FC\n",
        "y = LSTM(256, return_sequences=False, dropout=0.2, name='LSTM_1')(y)\n",
        "y = Dense(y_train.shape[1], activation='softmax', name='FC')(y)\n",
        "\n",
        "# Build final model\n",
        "model = Model(inputs=input_y, outputs=y)\n",
        "model.summary()"
      ]
    },
    {
      "cell_type": "code",
      "execution_count": null,
      "metadata": {
        "colab": {
          "base_uri": "https://localhost:8080/"
        },
        "id": "ZCcXYIPQub35",
        "outputId": "9190d09b-f9ea-47e6-e093-6990c2b595d4"
      },
      "outputs": [
        {
          "output_type": "stream",
          "name": "stdout",
          "text": [
            "Epoch 1/100\n",
            "51/51 [==============================] - 59s 868ms/step - loss: 1.9319 - accuracy: 0.1820 - val_loss: 2.0615 - val_accuracy: 0.1710\n",
            "Epoch 2/100\n",
            "51/51 [==============================] - 39s 771ms/step - loss: 1.8186 - accuracy: 0.2502 - val_loss: 1.9758 - val_accuracy: 0.2082\n",
            "Epoch 3/100\n",
            "51/51 [==============================] - 39s 773ms/step - loss: 1.7118 - accuracy: 0.3129 - val_loss: 1.9082 - val_accuracy: 0.2900\n",
            "Epoch 4/100\n",
            "51/51 [==============================] - 39s 772ms/step - loss: 1.6392 - accuracy: 0.3473 - val_loss: 1.9544 - val_accuracy: 0.2255\n",
            "Epoch 5/100\n",
            "51/51 [==============================] - 39s 771ms/step - loss: 1.6001 - accuracy: 0.3584 - val_loss: 1.8722 - val_accuracy: 0.2379\n",
            "Epoch 6/100\n",
            "51/51 [==============================] - 39s 772ms/step - loss: 1.5559 - accuracy: 0.3805 - val_loss: 1.7187 - val_accuracy: 0.2900\n",
            "Epoch 7/100\n",
            "51/51 [==============================] - 39s 774ms/step - loss: 1.5395 - accuracy: 0.3910 - val_loss: 1.5849 - val_accuracy: 0.3457\n",
            "Epoch 8/100\n",
            "51/51 [==============================] - 39s 773ms/step - loss: 1.5093 - accuracy: 0.4071 - val_loss: 1.6353 - val_accuracy: 0.3061\n",
            "Epoch 9/100\n",
            "51/51 [==============================] - 39s 774ms/step - loss: 1.4777 - accuracy: 0.4195 - val_loss: 1.4801 - val_accuracy: 0.4015\n",
            "Epoch 10/100\n",
            "51/51 [==============================] - 39s 774ms/step - loss: 1.4525 - accuracy: 0.4431 - val_loss: 1.5078 - val_accuracy: 0.4064\n",
            "Epoch 11/100\n",
            "51/51 [==============================] - 39s 771ms/step - loss: 1.4190 - accuracy: 0.4437 - val_loss: 1.4433 - val_accuracy: 0.3965\n",
            "Epoch 12/100\n",
            "51/51 [==============================] - 39s 773ms/step - loss: 1.3987 - accuracy: 0.4530 - val_loss: 1.4694 - val_accuracy: 0.4238\n",
            "Epoch 13/100\n",
            "51/51 [==============================] - 39s 774ms/step - loss: 1.3771 - accuracy: 0.4673 - val_loss: 1.4427 - val_accuracy: 0.4535\n",
            "Epoch 14/100\n",
            "51/51 [==============================] - 39s 771ms/step - loss: 1.3490 - accuracy: 0.4781 - val_loss: 1.5401 - val_accuracy: 0.4263\n",
            "Epoch 15/100\n",
            "51/51 [==============================] - 39s 773ms/step - loss: 1.3264 - accuracy: 0.4837 - val_loss: 1.3996 - val_accuracy: 0.4808\n",
            "Epoch 16/100\n",
            "51/51 [==============================] - 39s 772ms/step - loss: 1.2968 - accuracy: 0.5026 - val_loss: 1.6065 - val_accuracy: 0.4362\n",
            "Epoch 17/100\n",
            "51/51 [==============================] - 39s 773ms/step - loss: 1.2873 - accuracy: 0.5095 - val_loss: 1.4127 - val_accuracy: 0.4572\n",
            "Epoch 18/100\n",
            "51/51 [==============================] - 39s 772ms/step - loss: 1.2633 - accuracy: 0.5017 - val_loss: 1.3914 - val_accuracy: 0.4572\n",
            "Epoch 19/100\n",
            "34/51 [===================>..........] - ETA: 12s - loss: 1.2484 - accuracy: 0.5225"
          ]
        }
      ],
      "source": [
        "# Compile model\n",
        "model.compile(optimizer=SGD(lr=0.01, decay=1e-6, momentum=0.8), loss='categorical_crossentropy', metrics=['accuracy'])\n",
        "\n",
        "# Save best model\n",
        "best_model_save = ModelCheckpoint('CNN_LSTM_Model.hdf5', save_best_only=True, monitor='val_accuracy', mode='max')\n",
        "\n",
        "# Early stopping\n",
        "early_stopping = EarlyStopping(monitor='val_accuracy', patience=30, verbose=1, mode='max')\n",
        "\n",
        "# Fit model\n",
        "history = model.fit(X_train, y_train, batch_size=64, epochs=100, validation_data=(X_test, y_test), callbacks=[early_stopping, best_model_save,tf.keras.callbacks.CSVLogger('drive/My Drive/FYP/Pickle/source_history.csv')])"
      ]
    },
    {
      "cell_type": "code",
      "execution_count": null,
      "metadata": {
        "id": "P0O7q1GnUyr8"
      },
      "outputs": [],
      "source": [
        "model.evaluate(X_test,y_test)"
      ]
    },
    {
      "cell_type": "code",
      "execution_count": null,
      "metadata": {
        "id": "a2z59hZsuiPq"
      },
      "outputs": [],
      "source": [
        "y_pred=model.predict(X_test)\n",
        "y_classes = y_pred.argmax(axis=-1)"
      ]
    },
    {
      "cell_type": "code",
      "source": [
        "np.unique(y_classes)"
      ],
      "metadata": {
        "id": "pHFVtFd4dtfi"
      },
      "execution_count": null,
      "outputs": []
    },
    {
      "cell_type": "code",
      "source": [
        "my_dict={}"
      ],
      "metadata": {
        "id": "5BAUqd64e3wi"
      },
      "execution_count": null,
      "outputs": []
    },
    {
      "cell_type": "code",
      "source": [
        "np.vectorize(my_dict.get)(a)"
      ],
      "metadata": {
        "id": "HYNpByIle2xc"
      },
      "execution_count": null,
      "outputs": []
    },
    {
      "cell_type": "code",
      "execution_count": null,
      "metadata": {
        "id": "DQ4Z89mUUHbK"
      },
      "outputs": [],
      "source": [
        "model.save('drive/My Drive/Pickle/[CNN-LSTM]M.h5')\n",
        "model.save_weights('drive/My Drive/Pickle/[CNN-LSTM]W.h5')"
      ]
    },
    {
      "cell_type": "code",
      "source": [
        "# unaugmented_model = tf.keras.models.load_model('/content/drive/MyDrive/Pickle/unaugmented[CNN-LSTM]M.h5')\n",
        "# unaugmented_model.load_weights('/content/drive/MyDrive/Pickle/unaugmented[CNN-LSTM]M.h5')"
      ],
      "metadata": {
        "id": "nSoeSeXT_CIy"
      },
      "execution_count": null,
      "outputs": []
    },
    {
      "cell_type": "code",
      "source": [
        "# loss, acc = new_model.evaluate(x_test, y_test, verbose=0)\n",
        "# print(f\"test accuracy {acc*100}\")"
      ],
      "metadata": {
        "id": "XopXJMH3A1Aj"
      },
      "execution_count": null,
      "outputs": []
    },
    {
      "cell_type": "code",
      "execution_count": null,
      "metadata": {
        "id": "AfNGD0f1fLdd",
        "colab": {
          "base_uri": "https://localhost:8080/",
          "height": 627
        },
        "outputId": "f19dfcdf-b13c-4aca-9907-2a8926712bfe"
      },
      "outputs": [
        {
          "output_type": "execute_result",
          "data": {
            "text/plain": [
              "Text(0, 0.5, 'Accuracy')"
            ]
          },
          "metadata": {},
          "execution_count": 23
        },
        {
          "output_type": "display_data",
          "data": {
            "text/plain": [
              "<Figure size 1800x720 with 1 Axes>"
            ],
            "image/png": "[encoded data removed]"
          },
          "metadata": {
            "needs_background": "light"
          }
        }
      ],
      "source": [
        "plt.figure(figsize=(25,10))\n",
        "plt.subplot(1,2,1)\n",
        "plt.plot(history.history['accuracy'],'-b')\n",
        "plt.plot(history.history['val_accuracy'],'r')\n",
        "plt.legend(['Training accuracy','Validation accuracy'])\n",
        "plt.axis([0, 100, 0, 1])\n",
        "plt.xlabel('Epochs')\n",
        "plt.ylabel('Accuracy')\n",
        "\n"
      ]
    },
    {
      "cell_type": "code",
      "source": [
        ""
      ],
      "metadata": {
        "id": "KZE0ZkCA-C5p"
      },
      "execution_count": null,
      "outputs": []
    }
  ],
  "metadata": {
    "accelerator": "GPU",
    "colab": {
      "name": "mfcc_Model.ipynb",
      "provenance": [],
      "collapsed_sections": [],
      "include_colab_link": true
    },
    "kernelspec": {
      "display_name": "Python 3",
      "name": "python3"
    },
    "language_info": {
      "name": "python"
    }
  },
  "nbformat": 4,
  "nbformat_minor": 0
}